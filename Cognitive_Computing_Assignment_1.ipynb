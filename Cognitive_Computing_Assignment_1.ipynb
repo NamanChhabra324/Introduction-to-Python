{
  "nbformat": 4,
  "nbformat_minor": 0,
  "metadata": {
    "colab": {
      "provenance": []
    },
    "kernelspec": {
      "name": "python3",
      "display_name": "Python 3"
    },
    "language_info": {
      "name": "python"
    }
  },
  "cells": [
    {
      "cell_type": "markdown",
      "source": [
        "1. Write a Python program to print \"Anything You find cool.\""
      ],
      "metadata": {
        "id": "gVh6ZrulyQ1F"
      }
    },
    {
      "cell_type": "code",
      "source": [
        "print(\"Welcome to Cognitive Computing\")"
      ],
      "metadata": {
        "colab": {
          "base_uri": "https://localhost:8080/"
        },
        "id": "oPxEE1zayW-y",
        "outputId": "bcd69346-48a1-4265-83a5-09a5d8983fa8"
      },
      "execution_count": null,
      "outputs": [
        {
          "output_type": "stream",
          "name": "stdout",
          "text": [
            "Welcome to Cognitive Computing\n"
          ]
        }
      ]
    },
    {
      "cell_type": "markdown",
      "source": [
        "2.1 Write a program to add two numbers and print the result.\n"
      ],
      "metadata": {
        "id": "3ak4dSf3ydTg"
      }
    },
    {
      "cell_type": "code",
      "source": [
        "a = 4\n",
        "b = 5\n",
        "print(a + b)"
      ],
      "metadata": {
        "colab": {
          "base_uri": "https://localhost:8080/"
        },
        "id": "_ChV5uD8yk4W",
        "outputId": "ccf7cc6d-e30b-4d34-f1bb-6004c343c73c"
      },
      "execution_count": null,
      "outputs": [
        {
          "output_type": "stream",
          "name": "stdout",
          "text": [
            "9\n"
          ]
        }
      ]
    },
    {
      "cell_type": "markdown",
      "source": [
        "2.2 Write a program to concatenate two strings and print the result."
      ],
      "metadata": {
        "id": "hH_q8pvMys_O"
      }
    },
    {
      "cell_type": "code",
      "source": [
        "a = \"Hello \"\n",
        "b = \"World\"\n",
        "print(a + b)"
      ],
      "metadata": {
        "colab": {
          "base_uri": "https://localhost:8080/"
        },
        "id": "GJshbb4TyyKo",
        "outputId": "e2a03ab0-7e2d-494b-cef1-75b7208e5fa0"
      },
      "execution_count": null,
      "outputs": [
        {
          "output_type": "stream",
          "name": "stdout",
          "text": [
            "Hello World\n"
          ]
        }
      ]
    },
    {
      "cell_type": "markdown",
      "source": [
        "2.3 Write a program to concatenate a string and a number and print the result.\n"
      ],
      "metadata": {
        "id": "LLol4ZP6y9Wq"
      }
    },
    {
      "cell_type": "code",
      "source": [
        "a = \"My age is \"\n",
        "b = 20\n",
        "print(a + str(b))"
      ],
      "metadata": {
        "colab": {
          "base_uri": "https://localhost:8080/"
        },
        "id": "ENIFCE6fzAWw",
        "outputId": "ceefffbf-3a57-4d47-dc94-36c52850e5d1"
      },
      "execution_count": null,
      "outputs": [
        {
          "output_type": "stream",
          "name": "stdout",
          "text": [
            "My age is 20\n"
          ]
        }
      ]
    },
    {
      "cell_type": "markdown",
      "source": [
        "3.1 Write a Python program to check if a number is positive, negative, or zero\n",
        "using an if-else statement.\n"
      ],
      "metadata": {
        "id": "ak22Z6PhzNif"
      }
    },
    {
      "cell_type": "code",
      "source": [
        "num = int(input(\"Enter a number : \"))\n",
        "if (num > 0):\n",
        "  print(\"Positive\")\n",
        "elif (num == 0):\n",
        "  print(\"Zero\")\n",
        "else:\n",
        "  print(\"Negative\")"
      ],
      "metadata": {
        "colab": {
          "base_uri": "https://localhost:8080/"
        },
        "id": "uYbdVgkIzddq",
        "outputId": "400a2a90-7dee-4b3f-b4c7-54f8559b11d9"
      },
      "execution_count": null,
      "outputs": [
        {
          "output_type": "stream",
          "name": "stdout",
          "text": [
            "Enter a number : -98\n",
            "Negative\n"
          ]
        }
      ]
    },
    {
      "cell_type": "markdown",
      "source": [
        "3.2 Write a program to check if a given number is odd or even."
      ],
      "metadata": {
        "id": "6kCPQZ17zYg3"
      }
    },
    {
      "cell_type": "code",
      "source": [
        "num = int(input(\"Enter a number : \"))\n",
        "if (num % 2 == 0):\n",
        "  print(\"Even\")\n",
        "else:\n",
        "  print(\"Odd\")"
      ],
      "metadata": {
        "colab": {
          "base_uri": "https://localhost:8080/"
        },
        "id": "V7gWpxMs0EYu",
        "outputId": "e545b77a-5437-4f26-8b14-066bc8837869"
      },
      "execution_count": null,
      "outputs": [
        {
          "output_type": "stream",
          "name": "stdout",
          "text": [
            "Enter a number : 23\n",
            "Odd\n"
          ]
        }
      ]
    },
    {
      "cell_type": "markdown",
      "source": [
        "4.1 Write a program to print numbers from 1 to 10 using a for loop."
      ],
      "metadata": {
        "id": "Wn1XToY-zWYm"
      }
    },
    {
      "cell_type": "code",
      "source": [
        "for el in range(1, 11):\n",
        "  print(el, end = \" \")"
      ],
      "metadata": {
        "colab": {
          "base_uri": "https://localhost:8080/"
        },
        "id": "6v0xRng_0crb",
        "outputId": "d9f515e5-4daa-4473-ccd4-f86200426b96"
      },
      "execution_count": null,
      "outputs": [
        {
          "output_type": "stream",
          "name": "stdout",
          "text": [
            "1 2 3 4 5 6 7 8 9 10 "
          ]
        }
      ]
    },
    {
      "cell_type": "markdown",
      "source": [
        "4.2 Write a program to print numbers from 1 to 10 using a while loop.\n"
      ],
      "metadata": {
        "id": "RuAePn9U0oIb"
      }
    },
    {
      "cell_type": "code",
      "source": [
        "i = 1\n",
        "while (i <= 10):\n",
        "  print(i, end = \" \")\n",
        "  i = i + 1"
      ],
      "metadata": {
        "colab": {
          "base_uri": "https://localhost:8080/"
        },
        "id": "uVL2W-Ea1K8l",
        "outputId": "196d989e-0e58-42f8-f00f-681f58f72ba2"
      },
      "execution_count": null,
      "outputs": [
        {
          "output_type": "stream",
          "name": "stdout",
          "text": [
            "1 2 3 4 5 6 7 8 9 10 "
          ]
        }
      ]
    },
    {
      "cell_type": "markdown",
      "source": [
        "4.3 Write a program to calculate the sum of numbers from 1 to 100 using a loop."
      ],
      "metadata": {
        "id": "8VHWceb11Vf3"
      }
    },
    {
      "cell_type": "code",
      "source": [
        "sum = 0\n",
        "for el in range(1, 101):\n",
        "  sum = sum + el\n",
        "print(sum)"
      ],
      "metadata": {
        "colab": {
          "base_uri": "https://localhost:8080/"
        },
        "id": "5hSBmqF21ctU",
        "outputId": "8969c070-932f-4b2f-f7d0-d35895ecbe4e"
      },
      "execution_count": null,
      "outputs": [
        {
          "output_type": "stream",
          "name": "stdout",
          "text": [
            "5050\n"
          ]
        }
      ]
    },
    {
      "cell_type": "markdown",
      "source": [
        "5.1 Create a list of 5 numbers. Write a program to find the largest and smallest\n",
        "numbers in the list."
      ],
      "metadata": {
        "id": "lXyV47ZS1yS_"
      }
    },
    {
      "cell_type": "code",
      "source": [
        "numbers = [12, 23, 34, 45, 56]\n",
        "largest = numbers[0]\n",
        "smallest = numbers[0]\n",
        "for number in numbers:\n",
        "  if (number > largest):\n",
        "    largest = number\n",
        "  if (number < smallest):\n",
        "    smallest = number\n",
        "print(f'Smallest number is {smallest}')\n",
        "print(f'Largest number is {largest}')"
      ],
      "metadata": {
        "colab": {
          "base_uri": "https://localhost:8080/"
        },
        "id": "9XPnshlf1zNA",
        "outputId": "83175cd6-3389-4581-c203-dbdc3438e7ee"
      },
      "execution_count": null,
      "outputs": [
        {
          "output_type": "stream",
          "name": "stdout",
          "text": [
            "Smallest number is 12\n",
            "Largest number is 56\n"
          ]
        }
      ]
    },
    {
      "cell_type": "markdown",
      "source": [
        "5.2 Create a dictionary with at least 3 key-value pairs. Write a program to retrieve\n",
        "the value of a given key."
      ],
      "metadata": {
        "id": "m7Pq3X2R2ux5"
      }
    },
    {
      "cell_type": "code",
      "source": [
        "Student = {\n",
        "    \"Name\" : \"John\",\n",
        "    \"Marks\" : 98.56,\n",
        "    \"Age\" : 20\n",
        "}\n",
        "print(Student[\"Marks\"])"
      ],
      "metadata": {
        "colab": {
          "base_uri": "https://localhost:8080/"
        },
        "id": "QtpEQttL2vqA",
        "outputId": "300da069-e2df-4f3c-eb8e-58c985456432"
      },
      "execution_count": null,
      "outputs": [
        {
          "output_type": "stream",
          "name": "stdout",
          "text": [
            "98.56\n"
          ]
        }
      ]
    },
    {
      "cell_type": "markdown",
      "source": [
        "5.3 Write a program to sort a list of numbers in ascending and descending order."
      ],
      "metadata": {
        "id": "qhwsNCmE46AS"
      }
    },
    {
      "cell_type": "code",
      "source": [
        "numbers = [1, 4, 6, 2, 8, 9, 3, 5, 7]\n",
        "numbers.sort()\n",
        "print(numbers)  #Ascending Order\n",
        "numbers.sort(reverse = True)\n",
        "print(numbers)  #Descending Order"
      ],
      "metadata": {
        "colab": {
          "base_uri": "https://localhost:8080/"
        },
        "id": "HmGDKjp_4-ND",
        "outputId": "6923d2e1-de06-4b45-ef86-aeca0527fdf7"
      },
      "execution_count": null,
      "outputs": [
        {
          "output_type": "stream",
          "name": "stdout",
          "text": [
            "[1, 2, 3, 4, 5, 6, 7, 8, 9]\n",
            "[9, 8, 7, 6, 5, 4, 3, 2, 1]\n"
          ]
        }
      ]
    },
    {
      "cell_type": "markdown",
      "source": [
        "5.4 Write a program to merge two dictionaries into one.\n"
      ],
      "metadata": {
        "id": "xp25fdZG5s2u"
      }
    },
    {
      "cell_type": "code",
      "source": [
        "dict1 = {\n",
        "    \"Name\" : \"Rahul\",\n",
        "    \"Age\" : 23\n",
        "}\n",
        "dict2 = {\n",
        "    \"Marks\" : 99.87,\n",
        "    \"City\" : \"Patiala\"\n",
        "}\n",
        "Merged = {\n",
        "    **dict1, **dict2\n",
        "}\n",
        "print(Merged)"
      ],
      "metadata": {
        "colab": {
          "base_uri": "https://localhost:8080/"
        },
        "id": "pKfyzykb54EX",
        "outputId": "16489012-3bc7-4479-e3de-5b42c9a3613e"
      },
      "execution_count": null,
      "outputs": [
        {
          "output_type": "stream",
          "name": "stdout",
          "text": [
            "{'Name': 'Rahul', 'Age': 23, 'Marks': 99.87, 'City': 'Patiala'}\n"
          ]
        }
      ]
    },
    {
      "cell_type": "markdown",
      "source": [
        "6.1 Write a program to count the number of vowels in a given string."
      ],
      "metadata": {
        "id": "kJG1kuky7X9N"
      }
    },
    {
      "cell_type": "code",
      "source": [
        "city = \"Patiala\"\n",
        "count = 0\n",
        "for el in city.lower():\n",
        "  if (el == 'a' or el == 'e' or el == 'i' or el == 'o' or el == 'u'):\n",
        "    count = count + 1\n",
        "print(count)"
      ],
      "metadata": {
        "colab": {
          "base_uri": "https://localhost:8080/"
        },
        "id": "7F2V0A1W6LVh",
        "outputId": "bd4699de-ed1b-42f6-a025-ff19f413a596"
      },
      "execution_count": null,
      "outputs": [
        {
          "output_type": "stream",
          "name": "stdout",
          "text": [
            "4\n"
          ]
        }
      ]
    },
    {
      "cell_type": "markdown",
      "source": [
        "6.2 Write a program to reverse a string and print it.\n"
      ],
      "metadata": {
        "id": "7GZYnsNx8RjY"
      }
    },
    {
      "cell_type": "code",
      "source": [
        "word = \"Hello\"\n",
        "print(word[::-1])"
      ],
      "metadata": {
        "colab": {
          "base_uri": "https://localhost:8080/"
        },
        "id": "0I9ViRvq7saj",
        "outputId": "fd5cc7cc-6af9-4bca-e266-edc334ac1881"
      },
      "execution_count": null,
      "outputs": [
        {
          "output_type": "stream",
          "name": "stdout",
          "text": [
            "olleH\n"
          ]
        }
      ]
    },
    {
      "cell_type": "markdown",
      "source": [
        "6.3 Write a program to check if a string is a palindrome."
      ],
      "metadata": {
        "id": "vatwZpC79bIq"
      }
    },
    {
      "cell_type": "code",
      "source": [
        "name = \"racecar\"\n",
        "if (name == name[::-1]):\n",
        "  print(\"Palindrome\")\n",
        "else:\n",
        "  print(\"Not a Palindrome\")"
      ],
      "metadata": {
        "colab": {
          "base_uri": "https://localhost:8080/"
        },
        "id": "5Wu0QVy49dlU",
        "outputId": "da23d40b-6101-4e86-9a55-f0408a7a427e"
      },
      "execution_count": null,
      "outputs": [
        {
          "output_type": "stream",
          "name": "stdout",
          "text": [
            "Palindrome\n"
          ]
        }
      ]
    },
    {
      "cell_type": "markdown",
      "source": [
        "7.1 Write a program to create a text file, write some text into it, and then read and\n",
        "print the content."
      ],
      "metadata": {
        "id": "h1e00Uy296Vi"
      }
    },
    {
      "cell_type": "code",
      "source": [
        "with open(\"Sample.txt\", \"w\") as file:\n",
        "  file.write('''Welcome to the World of Cognitive Computing.\n",
        "We will start by learning Python.\n",
        "Then learn Machine Learning.\n",
        "Then Numerical Language Processing.\n",
        "And so on...''')\n",
        "\n",
        "with open(\"Sample.txt\", \"r\") as file:\n",
        "  content = file.read()\n",
        "\n",
        "print(content)"
      ],
      "metadata": {
        "colab": {
          "base_uri": "https://localhost:8080/"
        },
        "id": "ijeS_uNW9wiN",
        "outputId": "adfd9911-997b-486e-bfc9-1dff8ed85ceb"
      },
      "execution_count": null,
      "outputs": [
        {
          "output_type": "stream",
          "name": "stdout",
          "text": [
            "Welcome to the World of Cognitive Computing.\n",
            "We will start by learning Python.\n",
            "Then learn Machine Learning.\n",
            "Then Numerical Language Processing.\n",
            "And so on...\n"
          ]
        }
      ]
    },
    {
      "cell_type": "markdown",
      "source": [
        "7.2 Write a program to append text to an existing file and print the updated\n",
        "content."
      ],
      "metadata": {
        "id": "q__TD5uCAhsE"
      }
    },
    {
      "cell_type": "code",
      "source": [
        "with open(\"Sample.txt\", \"a\") as file:\n",
        "  file.write(\" We are making Progress.\")\n",
        "\n",
        "with open(\"Sample.txt\", \"r\") as file:\n",
        "  content = file.read()\n",
        "\n",
        "print(content)"
      ],
      "metadata": {
        "colab": {
          "base_uri": "https://localhost:8080/"
        },
        "id": "se6CvCUL_PRb",
        "outputId": "d03ed24d-2cc5-4a0b-ca1d-8fe7029c99b4"
      },
      "execution_count": null,
      "outputs": [
        {
          "output_type": "stream",
          "name": "stdout",
          "text": [
            "Welcome to the World of Cognitive Computing.\n",
            "We will start by learning Python.\n",
            "Then learn Machine Learning.\n",
            "Then Numerical Language Processing.\n",
            "And so on... We are making Progress.\n"
          ]
        }
      ]
    },
    {
      "cell_type": "markdown",
      "source": [
        "7.3 Write a program to count the number of lines in a text file."
      ],
      "metadata": {
        "id": "3pxVkKO1BJom"
      }
    },
    {
      "cell_type": "code",
      "source": [
        "with open(\"Sample.txt\", \"r\") as file:\n",
        "  lines = file.readlines()\n",
        "\n",
        "print(len(lines))"
      ],
      "metadata": {
        "colab": {
          "base_uri": "https://localhost:8080/"
        },
        "id": "MCxX_ZV9BKll",
        "outputId": "247c8653-d8d0-4227-cf0f-8122d6f73084"
      },
      "execution_count": null,
      "outputs": [
        {
          "output_type": "stream",
          "name": "stdout",
          "text": [
            "5\n"
          ]
        }
      ]
    },
    {
      "cell_type": "markdown",
      "source": [
        "8.1 Write a program to handle division by zero using a try-except block.\n"
      ],
      "metadata": {
        "id": "3PbuMdfqB522"
      }
    },
    {
      "cell_type": "code",
      "source": [
        "try:\n",
        "  result = 10 / 0\n",
        "except ZeroDivisionError:\n",
        "  print(\"Division by zero not possible.\")"
      ],
      "metadata": {
        "colab": {
          "base_uri": "https://localhost:8080/"
        },
        "id": "TwlGQ7FzBWZh",
        "outputId": "d3ce74b9-e859-4896-a55d-f65d760d29fc"
      },
      "execution_count": null,
      "outputs": [
        {
          "output_type": "stream",
          "name": "stdout",
          "text": [
            "Division by zero not possible.\n"
          ]
        }
      ]
    },
    {
      "cell_type": "markdown",
      "source": [
        "8.2 Write a program to handle invalid input (e.g., when the user enters a string\n",
        "instead of a number)."
      ],
      "metadata": {
        "id": "LLTi3h4QCeru"
      }
    },
    {
      "cell_type": "code",
      "source": [
        "try:\n",
        "  num = int(input(\"Enter a number : \"))\n",
        "  print(num)\n",
        "except ValueError:\n",
        "  print(\"Invalid Input\")"
      ],
      "metadata": {
        "colab": {
          "base_uri": "https://localhost:8080/"
        },
        "id": "RniPkIP6CD04",
        "outputId": "349b5a30-6442-476c-96a1-71c4db65ca40"
      },
      "execution_count": null,
      "outputs": [
        {
          "output_type": "stream",
          "name": "stdout",
          "text": [
            "Enter a number : acd\n",
            "Invalid Input\n"
          ]
        }
      ]
    },
    {
      "cell_type": "markdown",
      "source": [
        "8.3 Write a program to demonstrate the use of finally in exception handling."
      ],
      "metadata": {
        "id": "BHsMQ1cjC6Wu"
      }
    },
    {
      "cell_type": "code",
      "source": [
        "try:\n",
        "  result = 10 / 2\n",
        "finally:\n",
        "  print(\"This text will be printed no matter what\")"
      ],
      "metadata": {
        "colab": {
          "base_uri": "https://localhost:8080/"
        },
        "id": "O7zoYWDJCk0K",
        "outputId": "eaddaa34-d8c4-4010-d24e-0d2074cd935f"
      },
      "execution_count": null,
      "outputs": [
        {
          "output_type": "stream",
          "name": "stdout",
          "text": [
            "This text will be printed no matter what\n"
          ]
        }
      ]
    },
    {
      "cell_type": "markdown",
      "source": [
        "9.1 Write a program to generate 5 random numbers between 1 and 100 and print\n",
        "them.\n",
        "\n"
      ],
      "metadata": {
        "id": "DHFZvnInDOQF"
      }
    },
    {
      "cell_type": "code",
      "source": [
        "import random\n",
        "\n",
        "for el in range(5):\n",
        "  print(random.randint(1,100))"
      ],
      "metadata": {
        "colab": {
          "base_uri": "https://localhost:8080/"
        },
        "id": "nXq-rCc5DUz-",
        "outputId": "16990209-025e-422b-dfa0-881380635883"
      },
      "execution_count": null,
      "outputs": [
        {
          "output_type": "stream",
          "name": "stdout",
          "text": [
            "49\n",
            "72\n",
            "31\n",
            "58\n",
            "35\n"
          ]
        }
      ]
    },
    {
      "cell_type": "markdown",
      "source": [
        "9.2 Write a program to generate a random number and check if it is prime."
      ],
      "metadata": {
        "id": "0lCJOEMtDy-a"
      }
    },
    {
      "cell_type": "code",
      "source": [
        "import random\n",
        "\n",
        "num = random.randint(1, 100)\n",
        "flag = False\n",
        "\n",
        "for i in range(2, num):\n",
        "  if (num % i == 0):\n",
        "    flag = True\n",
        "    break\n",
        "\n",
        "if (flag == True):\n",
        "  print(\"Not Prime\")\n",
        "else:\n",
        "  print(\"Prime\")\n",
        "\n",
        "print(num)"
      ],
      "metadata": {
        "colab": {
          "base_uri": "https://localhost:8080/"
        },
        "id": "iFtfUV5iDi0v",
        "outputId": "b06bdc26-5e4c-4534-9cf7-ab6af5bd6c56"
      },
      "execution_count": null,
      "outputs": [
        {
          "output_type": "stream",
          "name": "stdout",
          "text": [
            "Prime\n",
            "23\n"
          ]
        }
      ]
    },
    {
      "cell_type": "markdown",
      "source": [
        "9.3 Write a program to simulate rolling a six-sided die.\n"
      ],
      "metadata": {
        "id": "BgA0RCaQFOwF"
      }
    },
    {
      "cell_type": "code",
      "source": [
        "import random\n",
        "\n",
        "print(random.randint(1, 6))"
      ],
      "metadata": {
        "colab": {
          "base_uri": "https://localhost:8080/"
        },
        "id": "8hntZA8bFjYs",
        "outputId": "ddc562f1-79bb-48f9-fcec-b0516f5a0cdd"
      },
      "execution_count": null,
      "outputs": [
        {
          "output_type": "stream",
          "name": "stdout",
          "text": [
            "5\n"
          ]
        }
      ]
    },
    {
      "cell_type": "markdown",
      "source": [
        "9.4 Write a program to shuffle a list of numbers."
      ],
      "metadata": {
        "id": "Pg15YIg4Fvx5"
      }
    },
    {
      "cell_type": "code",
      "source": [
        "import random\n",
        "\n",
        "numbers = [1, 2, 3, 4, 5, 6]\n",
        "random.shuffle(numbers)\n",
        "\n",
        "print(numbers)"
      ],
      "metadata": {
        "colab": {
          "base_uri": "https://localhost:8080/"
        },
        "id": "oo63yDlrE8s3",
        "outputId": "fb50bc4f-7e55-45f8-b921-40c1ee076125"
      },
      "execution_count": null,
      "outputs": [
        {
          "output_type": "stream",
          "name": "stdout",
          "text": [
            "[3, 2, 4, 1, 6, 5]\n"
          ]
        }
      ]
    },
    {
      "cell_type": "markdown",
      "source": [
        "9.5 Write a program to randomly select an item from a list."
      ],
      "metadata": {
        "id": "doNsl_8rGOto"
      }
    },
    {
      "cell_type": "code",
      "source": [
        "import random\n",
        "\n",
        "fruits = [\"Apple\", \"Mango\", \"Orange\", \"Litchi\", \"Banana\"]\n",
        "\n",
        "fruit = random.choice(fruits)\n",
        "\n",
        "print(fruit)"
      ],
      "metadata": {
        "colab": {
          "base_uri": "https://localhost:8080/"
        },
        "id": "0U-e3g1yGPsF",
        "outputId": "6a2d2093-754a-4afe-bb72-af5f0e295006"
      },
      "execution_count": null,
      "outputs": [
        {
          "output_type": "stream",
          "name": "stdout",
          "text": [
            "Litchi\n"
          ]
        }
      ]
    },
    {
      "cell_type": "markdown",
      "source": [
        "9.6 Write a program to generate a random password of given length."
      ],
      "metadata": {
        "id": "qJRw1X2JGwoz"
      }
    },
    {
      "cell_type": "code",
      "source": [
        "import random\n",
        "\n",
        "length = 8\n",
        "password = ''.join(random.choices(\"abcdefghijklmnopqrstuvwxyzABCDEFGHIJKLMNOPQRSTUVWXYZ0123456789!@#$%^&*\", k = length))\n",
        "print(password)"
      ],
      "metadata": {
        "colab": {
          "base_uri": "https://localhost:8080/"
        },
        "id": "xdGyfSKTGxi1",
        "outputId": "6ffd83ad-1130-4a0d-e49f-e9fe7c9f2a3c"
      },
      "execution_count": null,
      "outputs": [
        {
          "output_type": "stream",
          "name": "stdout",
          "text": [
            "b%W7MIg7\n"
          ]
        }
      ]
    },
    {
      "cell_type": "markdown",
      "source": [
        "9.7 Write a program to pick a random card from a standard deck of 52 cards."
      ],
      "metadata": {
        "id": "83DAuq-iJUpG"
      }
    },
    {
      "cell_type": "code",
      "source": [
        "import random\n",
        "\n",
        "suits = [\"Heart\", \"Spade\", \"Diamond\", \"Club\"]\n",
        "ranks = [\"1\", \"2\", \"3\", \"4\", \"5\", \"6\", \"7\", \"8\", \"9\", \"10\", \"Jack\", \"Queen\", \"King\", \"Ace\"]\n",
        "card = f'{random.choice(ranks)} of {random.choice(suits)}'\n",
        "print(card)"
      ],
      "metadata": {
        "colab": {
          "base_uri": "https://localhost:8080/"
        },
        "id": "mb2WRxKBJVYM",
        "outputId": "1f68ae0c-0581-4f1a-c2ac-dd27ee7899de"
      },
      "execution_count": null,
      "outputs": [
        {
          "output_type": "stream",
          "name": "stdout",
          "text": [
            "Ace of Heart\n"
          ]
        }
      ]
    },
    {
      "cell_type": "markdown",
      "source": [
        "10.1 Write a program to accept two numbers as command line arguments, add them, and print the result"
      ],
      "metadata": {
        "id": "R6KsfiE1oKwq"
      }
    },
    {
      "cell_type": "code",
      "source": [
        "import sys\n",
        "\n",
        "if len(sys.argv) != 3:\n",
        "  print(\"Usage: python script_name.py <number1> <number2>\")\n",
        "  sys.exit(1)\n",
        "number1 = float(sys.argv[1])\n",
        "number2 = float(sys.argv[2])\n",
        "result = number1 + number2\n",
        "print(f'Sum of {number1} and {number2} is {result}')"
      ],
      "metadata": {
        "id": "vXWcpip_oX3n"
      },
      "execution_count": 4,
      "outputs": []
    },
    {
      "cell_type": "markdown",
      "source": [
        "10.2 Write a program to accept a string as a command line argument and print its length  "
      ],
      "metadata": {
        "id": "qu5TtSU0qBmf"
      }
    },
    {
      "cell_type": "code",
      "source": [
        "import sys\n",
        "\n",
        "if (len(sys.argv) != 2):\n",
        "  print(\"Usage: pyhton script_name.py <string>\")\n",
        "  sys.exit(1)\n",
        "input_string = sys.argv[1]\n",
        "string_length = len(input_string)\n",
        "print(f\"The length of the string '{input_string}' is {string_length}\")"
      ],
      "metadata": {
        "id": "lanzUeNvqp0K"
      },
      "execution_count": 7,
      "outputs": []
    },
    {
      "cell_type": "markdown",
      "source": [
        "11.1 Write a program to use the math library to calculate the square root of a given\n",
        "number.\n"
      ],
      "metadata": {
        "id": "G5OBOpgHKOHq"
      }
    },
    {
      "cell_type": "code",
      "source": [
        "import math\n",
        "\n",
        "num = 16\n",
        "print(math.sqrt(num))"
      ],
      "metadata": {
        "colab": {
          "base_uri": "https://localhost:8080/"
        },
        "id": "VM5pZ9nDK1NB",
        "outputId": "ec4f6c62-b179-40f1-dcd5-5f6794af4b44"
      },
      "execution_count": null,
      "outputs": [
        {
          "output_type": "stream",
          "name": "stdout",
          "text": [
            "4.0\n"
          ]
        }
      ]
    },
    {
      "cell_type": "markdown",
      "source": [
        "11.2 Write a program to use the datetime library to print the current date and time.\n"
      ],
      "metadata": {
        "id": "g293cYFfL71m"
      }
    },
    {
      "cell_type": "code",
      "source": [
        "import datetime\n",
        "\n",
        "print(datetime.datetime.now())"
      ],
      "metadata": {
        "colab": {
          "base_uri": "https://localhost:8080/"
        },
        "id": "J2_AEu45L8qY",
        "outputId": "29112cb5-168b-47ba-a580-82c6966a972d"
      },
      "execution_count": null,
      "outputs": [
        {
          "output_type": "stream",
          "name": "stdout",
          "text": [
            "2025-01-12 06:25:36.315026\n"
          ]
        }
      ]
    },
    {
      "cell_type": "markdown",
      "source": [
        "11.3 Write a program to use the os library to list all files in the current directory."
      ],
      "metadata": {
        "id": "plGcjD_fMgwt"
      }
    },
    {
      "cell_type": "code",
      "source": [
        "import os\n",
        "\n",
        "print(os.listdir(\".\"))"
      ],
      "metadata": {
        "colab": {
          "base_uri": "https://localhost:8080/"
        },
        "id": "9B-kRmGgMhhM",
        "outputId": "4a89dfb3-d167-487c-89a0-4ea34cb938fe"
      },
      "execution_count": null,
      "outputs": [
        {
          "output_type": "stream",
          "name": "stdout",
          "text": [
            "['.config', 'Sample.txt', 'sample_data']\n"
          ]
        }
      ]
    }
  ]
}