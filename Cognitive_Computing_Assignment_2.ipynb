{
  "nbformat": 4,
  "nbformat_minor": 0,
  "metadata": {
    "colab": {
      "provenance": []
    },
    "kernelspec": {
      "name": "python3",
      "display_name": "Python 3"
    },
    "language_info": {
      "name": "python"
    }
  },
  "cells": [
    {
      "cell_type": "markdown",
      "source": [
        "1. Create a List L that is defined as= [10, 20, 30, 40, 50, 60, 70, 80].\n",
        "\n",
        "i. WAP to add 200 and 300 to L.\n",
        "\n",
        "ii. WAP to remove 10 and 30 from L.\n",
        "\n",
        "iii. WAP to sort L in ascending order.\n",
        "\n",
        "iv. WAP to sort L in descending order."
      ],
      "metadata": {
        "id": "gFcOj1AeI3MK"
      }
    },
    {
      "cell_type": "code",
      "source": [
        "#create a list\n",
        "L = [10, 20, 30, 40, 50, 60, 70, 80]\n",
        "\n",
        "#add 200 and 300\n",
        "L.append(200)\n",
        "L.append(300)\n",
        "print(L)\n",
        "\n",
        "#remove 10 and 30\n",
        "L.remove(10)\n",
        "L.remove(30)\n",
        "print(L)\n",
        "\n",
        "#sort in ascending order\n",
        "L.sort()\n",
        "print(L)\n",
        "\n",
        "#sort in descending order\n",
        "L.sort(reverse=True)\n",
        "print(L)"
      ],
      "metadata": {
        "colab": {
          "base_uri": "https://localhost:8080/"
        },
        "id": "Rh4DFpJxJA0x",
        "outputId": "a07011e0-626b-483a-e7ba-aee06de35b2b"
      },
      "execution_count": 1,
      "outputs": [
        {
          "output_type": "stream",
          "name": "stdout",
          "text": [
            "[10, 20, 30, 40, 50, 60, 70, 80, 200, 300]\n",
            "[20, 40, 50, 60, 70, 80, 200, 300]\n",
            "[20, 40, 50, 60, 70, 80, 200, 300]\n",
            "[300, 200, 80, 70, 60, 50, 40, 20]\n"
          ]
        }
      ]
    },
    {
      "cell_type": "markdown",
      "source": [
        "2. Create a tuple of marks scored as scores = (45, 89.5, 76, 45.4, 89, 92, 58, 45) and\n",
        "perform the following operations using tuple functions:\n",
        "\n",
        "i. Identify the highest score and its index in the tuple.\n",
        "\n",
        "ii. Find the lowest score and count how many times it appears.\n",
        "\n",
        "iii. Reverse the tuple and return it as a list.\n",
        "\n",
        "iv. Check if a specific score ‘76’ (input by the user) is present in the tuple and\n",
        "print its first occurrence index, or a message saying it’s not present.\n"
      ],
      "metadata": {
        "id": "tiunAv83KIBk"
      }
    },
    {
      "cell_type": "code",
      "source": [
        "#create Tuple\n",
        "scores = (45, 89.5, 76, 45.4, 89, 92, 58, 45)\n",
        "\n",
        "#highest score and its index\n",
        "max = scores[0]\n",
        "index = 0\n",
        "for i in range(len(scores)):\n",
        "  if (scores[i] > max):\n",
        "    max = scores[i]\n",
        "    index = i\n",
        "\n",
        "print(f'Highest score is {max} and it is present at index {index}')\n",
        "\n",
        "#lowest score and its count\n",
        "lowest = min(scores)\n",
        "count = scores.count(lowest)\n",
        "print(f'Lowest score is {lowest} and its count in {count}')\n",
        "\n",
        "#Reverse tuple and return in a list\n",
        "L = list(reversed(scores))\n",
        "print(f'Reversed tuple as list is {L}')\n",
        "\n",
        "#Search for a score\n",
        "score = 76\n",
        "if score in scores:\n",
        "  idx = scores.index(score)\n",
        "  print(f'{score} is present in the tuple at index {idx}')\n",
        "else:\n",
        "  print(f'{score} is not present in the tuple')"
      ],
      "metadata": {
        "colab": {
          "base_uri": "https://localhost:8080/"
        },
        "id": "OKByCpxgKNsc",
        "outputId": "48cd5930-d8a5-4af2-c67f-c0e0077ecd73"
      },
      "execution_count": 7,
      "outputs": [
        {
          "output_type": "stream",
          "name": "stdout",
          "text": [
            "Highest score is 92 and it is present at index 5\n",
            "Lowest score is 45 and its count in 2\n",
            "Reversed tuple as list is [45, 58, 92, 89, 45.4, 76, 89.5, 45]\n",
            "76 is present in the tuple at index 2\n"
          ]
        }
      ]
    },
    {
      "cell_type": "markdown",
      "source": [
        "WAP to create a list of 100 random numbers between 100 and 900. Count and print\n",
        "the:\n",
        "\n",
        "i. All odd numbers\n",
        "\n",
        "ii. All even numbers\n",
        "\n",
        "iii. All prime numbers"
      ],
      "metadata": {
        "id": "HoZ60aRSRPy6"
      }
    },
    {
      "cell_type": "code",
      "source": [
        "import random\n",
        "\n",
        "def isprime(num):\n",
        "  if (num <= 1):\n",
        "    return False\n",
        "  for i in range(2, num):\n",
        "    if (num % i == 0):\n",
        "      return False\n",
        "  return True\n",
        "\n",
        "#Generating random numbers\n",
        "numbers = []\n",
        "for i in range(100):\n",
        "  numbers.append(random.randint(100, 900))\n",
        "\n",
        "odd = []\n",
        "even = []\n",
        "prime = []\n",
        "\n",
        "#odd and even and prime\n",
        "for number in numbers:\n",
        "  if (number % 2 == 0):\n",
        "    even.append(number)\n",
        "  else:\n",
        "    odd.append(number)\n",
        "  if (isprime(number)):\n",
        "    prime.append(number)\n",
        "\n",
        "print(f'Odd numbers are {odd}')\n",
        "print(f'Even numbers are {even}')\n",
        "print(f'Prime numbers are {prime}')"
      ],
      "metadata": {
        "colab": {
          "base_uri": "https://localhost:8080/"
        },
        "id": "xy2tY3vjRVa_",
        "outputId": "e9bee123-bd59-4c7d-c187-8d92073ee724"
      },
      "execution_count": 18,
      "outputs": [
        {
          "output_type": "stream",
          "name": "stdout",
          "text": [
            "Odd numbers are [735, 379, 125, 401, 245, 783, 257, 713, 725, 869, 385, 709, 611, 257, 603, 441, 841, 443, 119, 745, 839, 517, 259, 683, 399, 389, 787, 875, 555, 539, 193, 565, 371, 149, 693, 673, 659, 745, 679, 735, 741, 555, 869, 721, 243, 785, 741]\n",
            "Even numbers are [578, 726, 328, 352, 754, 126, 122, 574, 382, 382, 856, 870, 532, 258, 762, 260, 294, 248, 160, 330, 470, 836, 790, 718, 568, 680, 730, 848, 144, 182, 476, 482, 310, 542, 820, 604, 838, 308, 500, 788, 472, 886, 468, 554, 774, 738, 610, 900, 104, 734, 680, 876, 274]\n",
            "Prime numbers are [379, 401, 257, 709, 257, 443, 839, 683, 389, 787, 193, 149, 673, 659]\n"
          ]
        }
      ]
    },
    {
      "cell_type": "markdown",
      "source": [
        "Consider the following two sets, A and B, represenƟng scores of two teams in mulƟple\n",
        "matches. A = {34, 56, 78, 90} and B = {78, 45, 90, 23}\n",
        "WAP to perform the following operaƟons using set funcƟons:\n",
        "\n",
        "i. Find the unique scores achieved by both teams (union of sets).\n",
        "\n",
        "ii. IdenƟfy the scores that are common to both teams (intersecƟon of sets).\n",
        "\n",
        "iii. Find the scores that are exclusive to each team (symmetric difference).\n",
        "\n",
        "iv. Check if the scores of team A are a subset of team B, and if team B's scores are\n",
        "a superset of team A.\n",
        "\n",
        "v. Remove a specific score 𝑋 (input by the user) from set A if it exists. If not, print\n",
        "a message saying it is not present."
      ],
      "metadata": {
        "id": "IWwAoT3IN9Dd"
      }
    },
    {
      "cell_type": "code",
      "source": [
        "#create two sets\n",
        "A = {34, 56, 78, 90}\n",
        "B = {78, 45, 90, 23}\n",
        "\n",
        "#Union of sets\n",
        "print(f'Union of sets is {A | B}')\n",
        "\n",
        "#intersection of sets\n",
        "print(f'Intersection of sets is {A & B}')\n",
        "\n",
        "#Symmetric Difference\n",
        "print(f'Symmetric Difference is {A ^ B}')\n",
        "\n",
        "#subset and superset\n",
        "subset = A.issubset(B)\n",
        "superset = A.issuperset(A)\n",
        "\n",
        "if (subset):\n",
        "  print('A is subset of B')\n",
        "else:\n",
        "  print('A is not subset of B')\n",
        "\n",
        "if (superset):\n",
        "  print('B is superset of A')\n",
        "else:\n",
        "  print('B is not superset of A')\n",
        "\n",
        "#remove specific score from set\n",
        "X = int(input('Enter a score to remove : '))\n",
        "if X in A:\n",
        "  A.remove(X)\n",
        "  print(f'{X} has been removed from set A')\n",
        "else:\n",
        "  print(f'{X} is not present in set A')"
      ],
      "metadata": {
        "colab": {
          "base_uri": "https://localhost:8080/"
        },
        "id": "BFYKV2Z7ODry",
        "outputId": "746e0298-1044-487c-a4bd-1dff900c238b"
      },
      "execution_count": 13,
      "outputs": [
        {
          "output_type": "stream",
          "name": "stdout",
          "text": [
            "Union of sets is {34, 45, 78, 23, 56, 90}\n",
            "Intersection of sets is {90, 78}\n",
            "Symmetric Difference is {34, 45, 23, 56}\n",
            "A is not subset of B\n",
            "B is superset of A\n",
            "Enter a score to remove : 78\n",
            "78 has been removed from set A\n"
          ]
        }
      ]
    },
    {
      "cell_type": "markdown",
      "source": [
        "Write a program to rename a key city to a locaƟon in the following dicƟonary"
      ],
      "metadata": {
        "id": "4yf70mcBQQr6"
      }
    },
    {
      "cell_type": "code",
      "source": [
        "sample = {\n",
        "    \"name\" : \"Kelly\",\n",
        "    \"age\" : 21,\n",
        "    \"salary\" : 10230,\n",
        "    \"city\" : \"New York\"\n",
        "}\n",
        "\n",
        "#renaming a key\n",
        "sample['location'] = sample.pop('city')\n",
        "\n",
        "print(sample)"
      ],
      "metadata": {
        "colab": {
          "base_uri": "https://localhost:8080/"
        },
        "id": "qucD8ZClPHZj",
        "outputId": "d368b0b5-ebdc-4329-8098-fd8cb86b90c2"
      },
      "execution_count": 14,
      "outputs": [
        {
          "output_type": "stream",
          "name": "stdout",
          "text": [
            "{'name': 'Kelly', 'age': 21, 'salary': 10230, 'location': 'New York'}\n"
          ]
        }
      ]
    }
  ]
}