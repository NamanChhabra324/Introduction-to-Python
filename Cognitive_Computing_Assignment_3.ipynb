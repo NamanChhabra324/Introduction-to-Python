{
  "nbformat": 4,
  "nbformat_minor": 0,
  "metadata": {
    "colab": {
      "provenance": []
    },
    "kernelspec": {
      "name": "python3",
      "display_name": "Python 3"
    },
    "language_info": {
      "name": "python"
    }
  },
  "cells": [
    {
      "cell_type": "markdown",
      "source": [
        "Q1 Create a dataset"
      ],
      "metadata": {
        "id": "w8rmK-Z6z1Ps"
      }
    },
    {
      "cell_type": "code",
      "source": [
        "import pandas as pd\n",
        "\n",
        "data = {\n",
        "    \"Tid\" : [1,2,3,4,5,6,7,8,9,10],\n",
        "    \"Refund\" : ['Yes','No','No','Yes','No','No','Yes','No','No','No'],\n",
        "    \"Marital_Status\" : ['Single','Married','Single','Married','Divorced','Married','Divorced','Single','Married','Single'],\n",
        "    \"Taxable_Income\" : ['125K','100K','70K','120K','95K','60K','220K','85K','75K','90K'],\n",
        "    \"Cheat\" : ['No','No','No','No','Yes','No','No','Yes','No','Yes']\n",
        "}\n",
        "\n",
        "df = pd.DataFrame(data)\n",
        "print(df)"
      ],
      "metadata": {
        "colab": {
          "base_uri": "https://localhost:8080/"
        },
        "id": "2Ak6-hSyz3AM",
        "outputId": "02e1cbec-7255-4eb4-b25b-60b6eac32127"
      },
      "execution_count": 2,
      "outputs": [
        {
          "output_type": "stream",
          "name": "stdout",
          "text": [
            "   Tid Refund Marital_Status Taxable_Income Cheat\n",
            "0    1    Yes         Single           125K    No\n",
            "1    2     No        Married           100K    No\n",
            "2    3     No         Single            70K    No\n",
            "3    4    Yes        Married           120K    No\n",
            "4    5     No       Divorced            95K   Yes\n",
            "5    6     No        Married            60K    No\n",
            "6    7    Yes       Divorced           220K    No\n",
            "7    8     No         Single            85K   Yes\n",
            "8    9     No        Married            75K    No\n",
            "9   10     No         Single            90K   Yes\n"
          ]
        }
      ]
    },
    {
      "cell_type": "markdown",
      "source": [
        "Q.2 From the above table that you have created, locate row 0, 4, 7 and 8 using DataFrame."
      ],
      "metadata": {
        "id": "Ilj9Oz2V2Tr0"
      }
    },
    {
      "cell_type": "code",
      "source": [
        "print(df.iloc[[0, 4, 7, 8]])"
      ],
      "metadata": {
        "colab": {
          "base_uri": "https://localhost:8080/"
        },
        "id": "uqMAwbBI2a2y",
        "outputId": "4acdfdda-4e85-4515-b71f-f8dac2b22039"
      },
      "execution_count": 3,
      "outputs": [
        {
          "output_type": "stream",
          "name": "stdout",
          "text": [
            "   Tid Refund Marital_Status Taxable_Income Cheat\n",
            "0    1    Yes         Single           125K    No\n",
            "4    5     No       Divorced            95K   Yes\n",
            "7    8     No         Single            85K   Yes\n",
            "8    9     No        Married            75K    No\n"
          ]
        }
      ]
    },
    {
      "cell_type": "markdown",
      "source": [
        "Q.3 Navigate the DataFrame and do the following task for the table created in question 1:\n",
        "1. Select row from index 3 to 7.\n",
        "2. Select row from index 4 to 8, and column 2 to 4.\n",
        "3. Select all rows with column index 1 to 3 (include index 3 during selection).\n"
      ],
      "metadata": {
        "id": "8jMPZNtt2yjM"
      }
    },
    {
      "cell_type": "code",
      "source": [
        "#1. Select row from index 3 to 7.\n",
        "print(df.iloc[3:8])"
      ],
      "metadata": {
        "colab": {
          "base_uri": "https://localhost:8080/"
        },
        "id": "X7qthle23B4D",
        "outputId": "8d950b40-0c5f-40f1-aec2-160a165f8450"
      },
      "execution_count": 4,
      "outputs": [
        {
          "output_type": "stream",
          "name": "stdout",
          "text": [
            "   Tid Refund Marital_Status Taxable_Income Cheat\n",
            "3    4    Yes        Married           120K    No\n",
            "4    5     No       Divorced            95K   Yes\n",
            "5    6     No        Married            60K    No\n",
            "6    7    Yes       Divorced           220K    No\n",
            "7    8     No         Single            85K   Yes\n"
          ]
        }
      ]
    },
    {
      "cell_type": "code",
      "source": [
        "#2. Select row from index 4 to 8, and column 2 to 4.\n",
        "print(df.iloc[4:9,2:5])"
      ],
      "metadata": {
        "colab": {
          "base_uri": "https://localhost:8080/"
        },
        "id": "3p8VAqtf3XoB",
        "outputId": "d41adc8f-c6fe-4a67-c7b5-029361396a59"
      },
      "execution_count": 5,
      "outputs": [
        {
          "output_type": "stream",
          "name": "stdout",
          "text": [
            "  Marital_Status Taxable_Income Cheat\n",
            "4       Divorced            95K   Yes\n",
            "5        Married            60K    No\n",
            "6       Divorced           220K    No\n",
            "7         Single            85K   Yes\n",
            "8        Married            75K    No\n"
          ]
        }
      ]
    },
    {
      "cell_type": "code",
      "source": [
        "#3. Select all rows with column index 1 to 3 (include index 3 during selection).\n",
        "print(df.iloc[0:,1:4])"
      ],
      "metadata": {
        "colab": {
          "base_uri": "https://localhost:8080/"
        },
        "id": "TQ1JtfjQ3pW6",
        "outputId": "04f29162-dade-4aeb-b3ef-693d0f62f354"
      },
      "execution_count": 6,
      "outputs": [
        {
          "output_type": "stream",
          "name": "stdout",
          "text": [
            "  Refund Marital_Status Taxable_Income\n",
            "0    Yes         Single           125K\n",
            "1     No        Married           100K\n",
            "2     No         Single            70K\n",
            "3    Yes        Married           120K\n",
            "4     No       Divorced            95K\n",
            "5     No        Married            60K\n",
            "6    Yes       Divorced           220K\n",
            "7     No         Single            85K\n",
            "8     No        Married            75K\n",
            "9     No         Single            90K\n"
          ]
        }
      ]
    },
    {
      "cell_type": "markdown",
      "source": [
        "Q.4 Read a csv file and display its first five rows."
      ],
      "metadata": {
        "id": "rGY5hrWS374a"
      }
    },
    {
      "cell_type": "code",
      "source": [
        "df_csv = pd.read_csv('https://raw.githubusercontent.com/mwaskom/seaborn-data/master/iris.csv')\n",
        "print(df_csv.head(5))"
      ],
      "metadata": {
        "colab": {
          "base_uri": "https://localhost:8080/"
        },
        "id": "smpUxy9l4CFK",
        "outputId": "2bd7a670-caf0-4518-a9fd-e646ee642281"
      },
      "execution_count": 12,
      "outputs": [
        {
          "output_type": "stream",
          "name": "stdout",
          "text": [
            "   sepal_length  sepal_width  petal_length  petal_width species\n",
            "0           5.1          3.5           1.4          0.2  setosa\n",
            "1           4.9          3.0           1.4          0.2  setosa\n",
            "2           4.7          3.2           1.3          0.2  setosa\n",
            "3           4.6          3.1           1.5          0.2  setosa\n",
            "4           5.0          3.6           1.4          0.2  setosa\n"
          ]
        }
      ]
    },
    {
      "cell_type": "markdown",
      "source": [
        "Q.5 From the csv file (uploaded in the Q.4) delete row 4, and delete column 3. Display the\n",
        "result.\n"
      ],
      "metadata": {
        "id": "t7Y7gW3-57vC"
      }
    },
    {
      "cell_type": "code",
      "source": [
        "df_csv_without_row_4 = df_csv.drop(3)\n",
        "new_file = df_csv_without_row_4.drop(\"petal_length\" , axis = 1)\n",
        "new_file\n",
        ""
      ],
      "metadata": {
        "colab": {
          "base_uri": "https://localhost:8080/",
          "height": 423
        },
        "id": "1Nj0Nehb58dW",
        "outputId": "95b71746-d4d5-44e6-ff87-a9a81c13b9e0"
      },
      "execution_count": 14,
      "outputs": [
        {
          "output_type": "execute_result",
          "data": {
            "text/plain": [
              "     sepal_length  sepal_width  petal_width    species\n",
              "0             5.1          3.5          0.2     setosa\n",
              "1             4.9          3.0          0.2     setosa\n",
              "2             4.7          3.2          0.2     setosa\n",
              "4             5.0          3.6          0.2     setosa\n",
              "5             5.4          3.9          0.4     setosa\n",
              "..            ...          ...          ...        ...\n",
              "145           6.7          3.0          2.3  virginica\n",
              "146           6.3          2.5          1.9  virginica\n",
              "147           6.5          3.0          2.0  virginica\n",
              "148           6.2          3.4          2.3  virginica\n",
              "149           5.9          3.0          1.8  virginica\n",
              "\n",
              "[149 rows x 4 columns]"
            ],
            "text/html": [
              "\n",
              "  <div id=\"df-7fdcc87e-26cd-4b46-99e4-81a080155adc\" class=\"colab-df-container\">\n",
              "    <div>\n",
              "<style scoped>\n",
              "    .dataframe tbody tr th:only-of-type {\n",
              "        vertical-align: middle;\n",
              "    }\n",
              "\n",
              "    .dataframe tbody tr th {\n",
              "        vertical-align: top;\n",
              "    }\n",
              "\n",
              "    .dataframe thead th {\n",
              "        text-align: right;\n",
              "    }\n",
              "</style>\n",
              "<table border=\"1\" class=\"dataframe\">\n",
              "  <thead>\n",
              "    <tr style=\"text-align: right;\">\n",
              "      <th></th>\n",
              "      <th>sepal_length</th>\n",
              "      <th>sepal_width</th>\n",
              "      <th>petal_width</th>\n",
              "      <th>species</th>\n",
              "    </tr>\n",
              "  </thead>\n",
              "  <tbody>\n",
              "    <tr>\n",
              "      <th>0</th>\n",
              "      <td>5.1</td>\n",
              "      <td>3.5</td>\n",
              "      <td>0.2</td>\n",
              "      <td>setosa</td>\n",
              "    </tr>\n",
              "    <tr>\n",
              "      <th>1</th>\n",
              "      <td>4.9</td>\n",
              "      <td>3.0</td>\n",
              "      <td>0.2</td>\n",
              "      <td>setosa</td>\n",
              "    </tr>\n",
              "    <tr>\n",
              "      <th>2</th>\n",
              "      <td>4.7</td>\n",
              "      <td>3.2</td>\n",
              "      <td>0.2</td>\n",
              "      <td>setosa</td>\n",
              "    </tr>\n",
              "    <tr>\n",
              "      <th>4</th>\n",
              "      <td>5.0</td>\n",
              "      <td>3.6</td>\n",
              "      <td>0.2</td>\n",
              "      <td>setosa</td>\n",
              "    </tr>\n",
              "    <tr>\n",
              "      <th>5</th>\n",
              "      <td>5.4</td>\n",
              "      <td>3.9</td>\n",
              "      <td>0.4</td>\n",
              "      <td>setosa</td>\n",
              "    </tr>\n",
              "    <tr>\n",
              "      <th>...</th>\n",
              "      <td>...</td>\n",
              "      <td>...</td>\n",
              "      <td>...</td>\n",
              "      <td>...</td>\n",
              "    </tr>\n",
              "    <tr>\n",
              "      <th>145</th>\n",
              "      <td>6.7</td>\n",
              "      <td>3.0</td>\n",
              "      <td>2.3</td>\n",
              "      <td>virginica</td>\n",
              "    </tr>\n",
              "    <tr>\n",
              "      <th>146</th>\n",
              "      <td>6.3</td>\n",
              "      <td>2.5</td>\n",
              "      <td>1.9</td>\n",
              "      <td>virginica</td>\n",
              "    </tr>\n",
              "    <tr>\n",
              "      <th>147</th>\n",
              "      <td>6.5</td>\n",
              "      <td>3.0</td>\n",
              "      <td>2.0</td>\n",
              "      <td>virginica</td>\n",
              "    </tr>\n",
              "    <tr>\n",
              "      <th>148</th>\n",
              "      <td>6.2</td>\n",
              "      <td>3.4</td>\n",
              "      <td>2.3</td>\n",
              "      <td>virginica</td>\n",
              "    </tr>\n",
              "    <tr>\n",
              "      <th>149</th>\n",
              "      <td>5.9</td>\n",
              "      <td>3.0</td>\n",
              "      <td>1.8</td>\n",
              "      <td>virginica</td>\n",
              "    </tr>\n",
              "  </tbody>\n",
              "</table>\n",
              "<p>149 rows × 4 columns</p>\n",
              "</div>\n",
              "    <div class=\"colab-df-buttons\">\n",
              "\n",
              "  <div class=\"colab-df-container\">\n",
              "    <button class=\"colab-df-convert\" onclick=\"convertToInteractive('df-7fdcc87e-26cd-4b46-99e4-81a080155adc')\"\n",
              "            title=\"Convert this dataframe to an interactive table.\"\n",
              "            style=\"display:none;\">\n",
              "\n",
              "  <svg xmlns=\"http://www.w3.org/2000/svg\" height=\"24px\" viewBox=\"0 -960 960 960\">\n",
              "    <path d=\"M120-120v-720h720v720H120Zm60-500h600v-160H180v160Zm220 220h160v-160H400v160Zm0 220h160v-160H400v160ZM180-400h160v-160H180v160Zm440 0h160v-160H620v160ZM180-180h160v-160H180v160Zm440 0h160v-160H620v160Z\"/>\n",
              "  </svg>\n",
              "    </button>\n",
              "\n",
              "  <style>\n",
              "    .colab-df-container {\n",
              "      display:flex;\n",
              "      gap: 12px;\n",
              "    }\n",
              "\n",
              "    .colab-df-convert {\n",
              "      background-color: #E8F0FE;\n",
              "      border: none;\n",
              "      border-radius: 50%;\n",
              "      cursor: pointer;\n",
              "      display: none;\n",
              "      fill: #1967D2;\n",
              "      height: 32px;\n",
              "      padding: 0 0 0 0;\n",
              "      width: 32px;\n",
              "    }\n",
              "\n",
              "    .colab-df-convert:hover {\n",
              "      background-color: #E2EBFA;\n",
              "      box-shadow: 0px 1px 2px rgba(60, 64, 67, 0.3), 0px 1px 3px 1px rgba(60, 64, 67, 0.15);\n",
              "      fill: #174EA6;\n",
              "    }\n",
              "\n",
              "    .colab-df-buttons div {\n",
              "      margin-bottom: 4px;\n",
              "    }\n",
              "\n",
              "    [theme=dark] .colab-df-convert {\n",
              "      background-color: #3B4455;\n",
              "      fill: #D2E3FC;\n",
              "    }\n",
              "\n",
              "    [theme=dark] .colab-df-convert:hover {\n",
              "      background-color: #434B5C;\n",
              "      box-shadow: 0px 1px 3px 1px rgba(0, 0, 0, 0.15);\n",
              "      filter: drop-shadow(0px 1px 2px rgba(0, 0, 0, 0.3));\n",
              "      fill: #FFFFFF;\n",
              "    }\n",
              "  </style>\n",
              "\n",
              "    <script>\n",
              "      const buttonEl =\n",
              "        document.querySelector('#df-7fdcc87e-26cd-4b46-99e4-81a080155adc button.colab-df-convert');\n",
              "      buttonEl.style.display =\n",
              "        google.colab.kernel.accessAllowed ? 'block' : 'none';\n",
              "\n",
              "      async function convertToInteractive(key) {\n",
              "        const element = document.querySelector('#df-7fdcc87e-26cd-4b46-99e4-81a080155adc');\n",
              "        const dataTable =\n",
              "          await google.colab.kernel.invokeFunction('convertToInteractive',\n",
              "                                                    [key], {});\n",
              "        if (!dataTable) return;\n",
              "\n",
              "        const docLinkHtml = 'Like what you see? Visit the ' +\n",
              "          '<a target=\"_blank\" href=https://colab.research.google.com/notebooks/data_table.ipynb>data table notebook</a>'\n",
              "          + ' to learn more about interactive tables.';\n",
              "        element.innerHTML = '';\n",
              "        dataTable['output_type'] = 'display_data';\n",
              "        await google.colab.output.renderOutput(dataTable, element);\n",
              "        const docLink = document.createElement('div');\n",
              "        docLink.innerHTML = docLinkHtml;\n",
              "        element.appendChild(docLink);\n",
              "      }\n",
              "    </script>\n",
              "  </div>\n",
              "\n",
              "\n",
              "<div id=\"df-270ab782-727c-47ea-983f-d33b678ee6f0\">\n",
              "  <button class=\"colab-df-quickchart\" onclick=\"quickchart('df-270ab782-727c-47ea-983f-d33b678ee6f0')\"\n",
              "            title=\"Suggest charts\"\n",
              "            style=\"display:none;\">\n",
              "\n",
              "<svg xmlns=\"http://www.w3.org/2000/svg\" height=\"24px\"viewBox=\"0 0 24 24\"\n",
              "     width=\"24px\">\n",
              "    <g>\n",
              "        <path d=\"M19 3H5c-1.1 0-2 .9-2 2v14c0 1.1.9 2 2 2h14c1.1 0 2-.9 2-2V5c0-1.1-.9-2-2-2zM9 17H7v-7h2v7zm4 0h-2V7h2v10zm4 0h-2v-4h2v4z\"/>\n",
              "    </g>\n",
              "</svg>\n",
              "  </button>\n",
              "\n",
              "<style>\n",
              "  .colab-df-quickchart {\n",
              "      --bg-color: #E8F0FE;\n",
              "      --fill-color: #1967D2;\n",
              "      --hover-bg-color: #E2EBFA;\n",
              "      --hover-fill-color: #174EA6;\n",
              "      --disabled-fill-color: #AAA;\n",
              "      --disabled-bg-color: #DDD;\n",
              "  }\n",
              "\n",
              "  [theme=dark] .colab-df-quickchart {\n",
              "      --bg-color: #3B4455;\n",
              "      --fill-color: #D2E3FC;\n",
              "      --hover-bg-color: #434B5C;\n",
              "      --hover-fill-color: #FFFFFF;\n",
              "      --disabled-bg-color: #3B4455;\n",
              "      --disabled-fill-color: #666;\n",
              "  }\n",
              "\n",
              "  .colab-df-quickchart {\n",
              "    background-color: var(--bg-color);\n",
              "    border: none;\n",
              "    border-radius: 50%;\n",
              "    cursor: pointer;\n",
              "    display: none;\n",
              "    fill: var(--fill-color);\n",
              "    height: 32px;\n",
              "    padding: 0;\n",
              "    width: 32px;\n",
              "  }\n",
              "\n",
              "  .colab-df-quickchart:hover {\n",
              "    background-color: var(--hover-bg-color);\n",
              "    box-shadow: 0 1px 2px rgba(60, 64, 67, 0.3), 0 1px 3px 1px rgba(60, 64, 67, 0.15);\n",
              "    fill: var(--button-hover-fill-color);\n",
              "  }\n",
              "\n",
              "  .colab-df-quickchart-complete:disabled,\n",
              "  .colab-df-quickchart-complete:disabled:hover {\n",
              "    background-color: var(--disabled-bg-color);\n",
              "    fill: var(--disabled-fill-color);\n",
              "    box-shadow: none;\n",
              "  }\n",
              "\n",
              "  .colab-df-spinner {\n",
              "    border: 2px solid var(--fill-color);\n",
              "    border-color: transparent;\n",
              "    border-bottom-color: var(--fill-color);\n",
              "    animation:\n",
              "      spin 1s steps(1) infinite;\n",
              "  }\n",
              "\n",
              "  @keyframes spin {\n",
              "    0% {\n",
              "      border-color: transparent;\n",
              "      border-bottom-color: var(--fill-color);\n",
              "      border-left-color: var(--fill-color);\n",
              "    }\n",
              "    20% {\n",
              "      border-color: transparent;\n",
              "      border-left-color: var(--fill-color);\n",
              "      border-top-color: var(--fill-color);\n",
              "    }\n",
              "    30% {\n",
              "      border-color: transparent;\n",
              "      border-left-color: var(--fill-color);\n",
              "      border-top-color: var(--fill-color);\n",
              "      border-right-color: var(--fill-color);\n",
              "    }\n",
              "    40% {\n",
              "      border-color: transparent;\n",
              "      border-right-color: var(--fill-color);\n",
              "      border-top-color: var(--fill-color);\n",
              "    }\n",
              "    60% {\n",
              "      border-color: transparent;\n",
              "      border-right-color: var(--fill-color);\n",
              "    }\n",
              "    80% {\n",
              "      border-color: transparent;\n",
              "      border-right-color: var(--fill-color);\n",
              "      border-bottom-color: var(--fill-color);\n",
              "    }\n",
              "    90% {\n",
              "      border-color: transparent;\n",
              "      border-bottom-color: var(--fill-color);\n",
              "    }\n",
              "  }\n",
              "</style>\n",
              "\n",
              "  <script>\n",
              "    async function quickchart(key) {\n",
              "      const quickchartButtonEl =\n",
              "        document.querySelector('#' + key + ' button');\n",
              "      quickchartButtonEl.disabled = true;  // To prevent multiple clicks.\n",
              "      quickchartButtonEl.classList.add('colab-df-spinner');\n",
              "      try {\n",
              "        const charts = await google.colab.kernel.invokeFunction(\n",
              "            'suggestCharts', [key], {});\n",
              "      } catch (error) {\n",
              "        console.error('Error during call to suggestCharts:', error);\n",
              "      }\n",
              "      quickchartButtonEl.classList.remove('colab-df-spinner');\n",
              "      quickchartButtonEl.classList.add('colab-df-quickchart-complete');\n",
              "    }\n",
              "    (() => {\n",
              "      let quickchartButtonEl =\n",
              "        document.querySelector('#df-270ab782-727c-47ea-983f-d33b678ee6f0 button');\n",
              "      quickchartButtonEl.style.display =\n",
              "        google.colab.kernel.accessAllowed ? 'block' : 'none';\n",
              "    })();\n",
              "  </script>\n",
              "</div>\n",
              "\n",
              "  <div id=\"id_3844e933-5323-4703-8cbf-82aa7d478a73\">\n",
              "    <style>\n",
              "      .colab-df-generate {\n",
              "        background-color: #E8F0FE;\n",
              "        border: none;\n",
              "        border-radius: 50%;\n",
              "        cursor: pointer;\n",
              "        display: none;\n",
              "        fill: #1967D2;\n",
              "        height: 32px;\n",
              "        padding: 0 0 0 0;\n",
              "        width: 32px;\n",
              "      }\n",
              "\n",
              "      .colab-df-generate:hover {\n",
              "        background-color: #E2EBFA;\n",
              "        box-shadow: 0px 1px 2px rgba(60, 64, 67, 0.3), 0px 1px 3px 1px rgba(60, 64, 67, 0.15);\n",
              "        fill: #174EA6;\n",
              "      }\n",
              "\n",
              "      [theme=dark] .colab-df-generate {\n",
              "        background-color: #3B4455;\n",
              "        fill: #D2E3FC;\n",
              "      }\n",
              "\n",
              "      [theme=dark] .colab-df-generate:hover {\n",
              "        background-color: #434B5C;\n",
              "        box-shadow: 0px 1px 3px 1px rgba(0, 0, 0, 0.15);\n",
              "        filter: drop-shadow(0px 1px 2px rgba(0, 0, 0, 0.3));\n",
              "        fill: #FFFFFF;\n",
              "      }\n",
              "    </style>\n",
              "    <button class=\"colab-df-generate\" onclick=\"generateWithVariable('new_file')\"\n",
              "            title=\"Generate code using this dataframe.\"\n",
              "            style=\"display:none;\">\n",
              "\n",
              "  <svg xmlns=\"http://www.w3.org/2000/svg\" height=\"24px\"viewBox=\"0 0 24 24\"\n",
              "       width=\"24px\">\n",
              "    <path d=\"M7,19H8.4L18.45,9,17,7.55,7,17.6ZM5,21V16.75L18.45,3.32a2,2,0,0,1,2.83,0l1.4,1.43a1.91,1.91,0,0,1,.58,1.4,1.91,1.91,0,0,1-.58,1.4L9.25,21ZM18.45,9,17,7.55Zm-12,3A5.31,5.31,0,0,0,4.9,8.1,5.31,5.31,0,0,0,1,6.5,5.31,5.31,0,0,0,4.9,4.9,5.31,5.31,0,0,0,6.5,1,5.31,5.31,0,0,0,8.1,4.9,5.31,5.31,0,0,0,12,6.5,5.46,5.46,0,0,0,6.5,12Z\"/>\n",
              "  </svg>\n",
              "    </button>\n",
              "    <script>\n",
              "      (() => {\n",
              "      const buttonEl =\n",
              "        document.querySelector('#id_3844e933-5323-4703-8cbf-82aa7d478a73 button.colab-df-generate');\n",
              "      buttonEl.style.display =\n",
              "        google.colab.kernel.accessAllowed ? 'block' : 'none';\n",
              "\n",
              "      buttonEl.onclick = () => {\n",
              "        google.colab.notebook.generateWithVariable('new_file');\n",
              "      }\n",
              "      })();\n",
              "    </script>\n",
              "  </div>\n",
              "\n",
              "    </div>\n",
              "  </div>\n"
            ],
            "application/vnd.google.colaboratory.intrinsic+json": {
              "type": "dataframe",
              "variable_name": "new_file",
              "summary": "{\n  \"name\": \"new_file\",\n  \"rows\": 149,\n  \"fields\": [\n    {\n      \"column\": \"sepal_length\",\n      \"properties\": {\n        \"dtype\": \"number\",\n        \"std\": 0.8245067343443231,\n        \"min\": 4.3,\n        \"max\": 7.9,\n        \"num_unique_values\": 35,\n        \"samples\": [\n          6.2,\n          4.5,\n          5.6\n        ],\n        \"semantic_type\": \"\",\n        \"description\": \"\"\n      }\n    },\n    {\n      \"column\": \"sepal_width\",\n      \"properties\": {\n        \"dtype\": \"number\",\n        \"std\": 0.43732216981352784,\n        \"min\": 2.0,\n        \"max\": 4.4,\n        \"num_unique_values\": 23,\n        \"samples\": [\n          2.3,\n          4.0,\n          3.5\n        ],\n        \"semantic_type\": \"\",\n        \"description\": \"\"\n      }\n    },\n    {\n      \"column\": \"petal_width\",\n      \"properties\": {\n        \"dtype\": \"number\",\n        \"std\": 0.7603544859560185,\n        \"min\": 0.1,\n        \"max\": 2.5,\n        \"num_unique_values\": 22,\n        \"samples\": [\n          0.2,\n          1.2,\n          1.3\n        ],\n        \"semantic_type\": \"\",\n        \"description\": \"\"\n      }\n    },\n    {\n      \"column\": \"species\",\n      \"properties\": {\n        \"dtype\": \"category\",\n        \"num_unique_values\": 3,\n        \"samples\": [\n          \"setosa\",\n          \"versicolor\",\n          \"virginica\"\n        ],\n        \"semantic_type\": \"\",\n        \"description\": \"\"\n      }\n    }\n  ]\n}"
            }
          },
          "metadata": {},
          "execution_count": 14
        }
      ]
    },
    {
      "cell_type": "markdown",
      "source": [
        "Q.6 Create a sample dataset (employees.csv) containing information about employees in\n",
        "a company."
      ],
      "metadata": {
        "id": "36jbIACk8MhG"
      }
    },
    {
      "cell_type": "code",
      "source": [
        "import pandas as pd\n",
        "\n",
        "data = {\n",
        " \"Employee_ID\": [101, 102, 103, 104, 105],\n",
        " \"Name\": [\"Alice\", \"Bob\", \"Charlie\", \"Diana\", \"Edward\"],\n",
        " \"Department\": [\"HR\", \"IT\", \"IT\", \"Marketing\", \"Sales\"],\n",
        " \"Age\": [29, 34, 41, 28, 38],\n",
        " \"Salary\": [50000, 70000, 65000, 55000, 60000],\n",
        " \"Years_of_Experience\": [4, 8, 10, 3, 12],\n",
        " \"Joining_Date\": [\"2020-03-15\", \"2017-07-19\", \"2013-06-01\", \"2021-02-10\", \"2010-11-25\"],\n",
        " \"Gender\": [\"Female\", \"Male\", \"Male\", \"Female\", \"Male\"],\n",
        " \"Bonus\": [5000, 7000, 6000, 4500, 5000],\n",
        " \"Rating\": [4.5, 4.0, 3.8, 4.7, 3.5],\n",
        "}\n",
        "df = pd.DataFrame(data)\n",
        "print(df)"
      ],
      "metadata": {
        "colab": {
          "base_uri": "https://localhost:8080/"
        },
        "id": "OyTqHoc28NfA",
        "outputId": "c2667fff-72ba-4313-a0bc-d44c8b7f5333"
      },
      "execution_count": 15,
      "outputs": [
        {
          "output_type": "stream",
          "name": "stdout",
          "text": [
            "   Employee_ID     Name Department  Age  Salary  Years_of_Experience  \\\n",
            "0          101    Alice         HR   29   50000                    4   \n",
            "1          102      Bob         IT   34   70000                    8   \n",
            "2          103  Charlie         IT   41   65000                   10   \n",
            "3          104    Diana  Marketing   28   55000                    3   \n",
            "4          105   Edward      Sales   38   60000                   12   \n",
            "\n",
            "  Joining_Date  Gender  Bonus  Rating  \n",
            "0   2020-03-15  Female   5000     4.5  \n",
            "1   2017-07-19    Male   7000     4.0  \n",
            "2   2013-06-01    Male   6000     3.8  \n",
            "3   2021-02-10  Female   4500     4.7  \n",
            "4   2010-11-25    Male   5000     3.5  \n"
          ]
        }
      ]
    },
    {
      "cell_type": "markdown",
      "source": [
        "WAP to determine the following using dataset in Q6:\n",
        "\n",
        "a) Shape (number of rows and columns) of the DataFrame."
      ],
      "metadata": {
        "id": "KZn8lkr-8nNE"
      }
    },
    {
      "cell_type": "code",
      "source": [
        "print(df.shape)"
      ],
      "metadata": {
        "colab": {
          "base_uri": "https://localhost:8080/"
        },
        "id": "1mISMLn_8pED",
        "outputId": "6366ae69-3739-43ad-ac18-50c03295cc1f"
      },
      "execution_count": 17,
      "outputs": [
        {
          "output_type": "stream",
          "name": "stdout",
          "text": [
            "(5, 10)\n"
          ]
        }
      ]
    },
    {
      "cell_type": "markdown",
      "source": [
        "b) Summary of the DataFrame that includes the data types and non-null counts for\n",
        "each column.\n"
      ],
      "metadata": {
        "id": "aoEEZ2fg86Uj"
      }
    },
    {
      "cell_type": "code",
      "source": [
        "print(df.info())"
      ],
      "metadata": {
        "colab": {
          "base_uri": "https://localhost:8080/"
        },
        "id": "HX4rds3A87Fh",
        "outputId": "3daa0c7d-398e-4a1e-ca28-4fb8bb5ef623"
      },
      "execution_count": 19,
      "outputs": [
        {
          "output_type": "stream",
          "name": "stdout",
          "text": [
            "<class 'pandas.core.frame.DataFrame'>\n",
            "RangeIndex: 5 entries, 0 to 4\n",
            "Data columns (total 10 columns):\n",
            " #   Column               Non-Null Count  Dtype  \n",
            "---  ------               --------------  -----  \n",
            " 0   Employee_ID          5 non-null      int64  \n",
            " 1   Name                 5 non-null      object \n",
            " 2   Department           5 non-null      object \n",
            " 3   Age                  5 non-null      int64  \n",
            " 4   Salary               5 non-null      int64  \n",
            " 5   Years_of_Experience  5 non-null      int64  \n",
            " 6   Joining_Date         5 non-null      object \n",
            " 7   Gender               5 non-null      object \n",
            " 8   Bonus                5 non-null      int64  \n",
            " 9   Rating               5 non-null      float64\n",
            "dtypes: float64(1), int64(5), object(4)\n",
            "memory usage: 532.0+ bytes\n",
            "None\n"
          ]
        }
      ]
    },
    {
      "cell_type": "markdown",
      "source": [
        "c) Generate descriptive statistics."
      ],
      "metadata": {
        "id": "sefNMUzh9As0"
      }
    },
    {
      "cell_type": "code",
      "source": [
        "print(df.describe())"
      ],
      "metadata": {
        "colab": {
          "base_uri": "https://localhost:8080/"
        },
        "id": "nxBOtuZF9Glh",
        "outputId": "5e729519-d474-445d-ed87-1bb6c5367335"
      },
      "execution_count": 20,
      "outputs": [
        {
          "output_type": "stream",
          "name": "stdout",
          "text": [
            "       Employee_ID        Age       Salary  Years_of_Experience   Bonus  \\\n",
            "count     5.000000   5.000000      5.00000             5.000000     5.0   \n",
            "mean    103.000000  34.000000  60000.00000             7.400000  5500.0   \n",
            "std       1.581139   5.612486   7905.69415             3.847077  1000.0   \n",
            "min     101.000000  28.000000  50000.00000             3.000000  4500.0   \n",
            "25%     102.000000  29.000000  55000.00000             4.000000  5000.0   \n",
            "50%     103.000000  34.000000  60000.00000             8.000000  5000.0   \n",
            "75%     104.000000  38.000000  65000.00000            10.000000  6000.0   \n",
            "max     105.000000  41.000000  70000.00000            12.000000  7000.0   \n",
            "\n",
            "         Rating  \n",
            "count  5.000000  \n",
            "mean   4.100000  \n",
            "std    0.494975  \n",
            "min    3.500000  \n",
            "25%    3.800000  \n",
            "50%    4.000000  \n",
            "75%    4.500000  \n",
            "max    4.700000  \n"
          ]
        }
      ]
    },
    {
      "cell_type": "markdown",
      "source": [
        "d) Display the first 5 rows and last 3 rows of the dataset."
      ],
      "metadata": {
        "id": "adeNnbS_9SYs"
      }
    },
    {
      "cell_type": "code",
      "source": [
        "print(df.head(5))\n",
        "print(df.tail(3))"
      ],
      "metadata": {
        "colab": {
          "base_uri": "https://localhost:8080/"
        },
        "id": "L2A2QWhm9TUu",
        "outputId": "74bc13a0-d000-454d-8a35-01d3e7c2c106"
      },
      "execution_count": 25,
      "outputs": [
        {
          "output_type": "stream",
          "name": "stdout",
          "text": [
            "   Employee_ID     Name Department  Age  Salary  Years_of_Experience  \\\n",
            "0          101    Alice         HR   29   50000                    4   \n",
            "1          102      Bob         IT   34   70000                    8   \n",
            "2          103  Charlie         IT   41   65000                   10   \n",
            "3          104    Diana  Marketing   28   55000                    3   \n",
            "4          105   Edward      Sales   38   60000                   12   \n",
            "\n",
            "  Joining_Date  Gender  Bonus  Rating  \n",
            "0   2020-03-15  Female   5000     4.5  \n",
            "1   2017-07-19    Male   7000     4.0  \n",
            "2   2013-06-01    Male   6000     3.8  \n",
            "3   2021-02-10  Female   4500     4.7  \n",
            "4   2010-11-25    Male   5000     3.5  \n",
            "   Employee_ID     Name Department  Age  Salary  Years_of_Experience  \\\n",
            "2          103  Charlie         IT   41   65000                   10   \n",
            "3          104    Diana  Marketing   28   55000                    3   \n",
            "4          105   Edward      Sales   38   60000                   12   \n",
            "\n",
            "  Joining_Date  Gender  Bonus  Rating  \n",
            "2   2013-06-01    Male   6000     3.8  \n",
            "3   2021-02-10  Female   4500     4.7  \n",
            "4   2010-11-25    Male   5000     3.5  \n"
          ]
        }
      ]
    },
    {
      "cell_type": "markdown",
      "source": [
        "e) Calculate the following statistics from the dataset:\n",
        "\n",
        "i. The average salary of employees.\n",
        "\n",
        "ii. The total bonus paid to all employees.\n",
        "\n",
        "iii. The youngest employee's age.\n",
        "\n",
        "iv. The highest performance rating.\n"
      ],
      "metadata": {
        "id": "RN0l_j_N98NM"
      }
    },
    {
      "cell_type": "code",
      "source": [
        "print(\"Average Salary:\", df[\"Salary\"].mean())\n",
        "print(\"Total Bonus:\", df[\"Bonus\"].sum())\n",
        "print(\"Youngest Employee Age:\", df[\"Age\"].min())\n",
        "print(\"Highest Rating:\", df[\"Rating\"].max())"
      ],
      "metadata": {
        "colab": {
          "base_uri": "https://localhost:8080/"
        },
        "id": "44QB1N0i-A0a",
        "outputId": "c5a43f71-e7d1-4cfd-f244-659433ad2c5c"
      },
      "execution_count": 26,
      "outputs": [
        {
          "output_type": "stream",
          "name": "stdout",
          "text": [
            "Average Salary: 60000.0\n",
            "Total Bonus: 27500\n",
            "Youngest Employee Age: 28\n",
            "Highest Rating: 4.7\n"
          ]
        }
      ]
    },
    {
      "cell_type": "markdown",
      "source": [
        "f) Sort the DataFrame by the Salary column in descending order."
      ],
      "metadata": {
        "id": "Nv5PRF44-SC6"
      }
    },
    {
      "cell_type": "code",
      "source": [
        "sorted_df = df.sort_values(by=\"Salary\", ascending=False)\n",
        "print(sorted_df)"
      ],
      "metadata": {
        "colab": {
          "base_uri": "https://localhost:8080/"
        },
        "id": "DEQ6OXUp-gZ5",
        "outputId": "e5e4dddb-7863-4679-d521-1d68deab42a3"
      },
      "execution_count": 27,
      "outputs": [
        {
          "output_type": "stream",
          "name": "stdout",
          "text": [
            "   Employee_ID     Name Department  Age  Salary  Years_of_Experience  \\\n",
            "1          102      Bob         IT   34   70000                    8   \n",
            "2          103  Charlie         IT   41   65000                   10   \n",
            "4          105   Edward      Sales   38   60000                   12   \n",
            "3          104    Diana  Marketing   28   55000                    3   \n",
            "0          101    Alice         HR   29   50000                    4   \n",
            "\n",
            "  Joining_Date  Gender  Bonus  Rating  \n",
            "1   2017-07-19    Male   7000     4.0  \n",
            "2   2013-06-01    Male   6000     3.8  \n",
            "4   2010-11-25    Male   5000     3.5  \n",
            "3   2021-02-10  Female   4500     4.7  \n",
            "0   2020-03-15  Female   5000     4.5  \n"
          ]
        }
      ]
    },
    {
      "cell_type": "markdown",
      "source": [
        "g) Add a new column that categorizes employees based on their performance rating:\n",
        "\n",
        "i. Excellent for ratings >= 4.5\n",
        "\n",
        "ii. Good for ratings >= 4.0 but < 4.5\n",
        "\n",
        "iii. Average for ratings < 4.0\n"
      ],
      "metadata": {
        "id": "tqKK08qf-0Yx"
      }
    },
    {
      "cell_type": "code",
      "source": [
        "df[\"Performance\"] = pd.cut(\n",
        " df[\"Rating\"],\n",
        " bins=[0, 4.0, 4.5, 5],\n",
        " labels=[\"Average\", \"Good\", \"Excellent\"]\n",
        ")\n",
        "print(df[[\"Name\", \"Performance\"]])\n"
      ],
      "metadata": {
        "colab": {
          "base_uri": "https://localhost:8080/"
        },
        "id": "2rPq_OO0_DOP",
        "outputId": "93b01e88-f63a-4338-c25e-f281abcef2b1"
      },
      "execution_count": 28,
      "outputs": [
        {
          "output_type": "stream",
          "name": "stdout",
          "text": [
            "      Name Performance\n",
            "0    Alice        Good\n",
            "1      Bob     Average\n",
            "2  Charlie     Average\n",
            "3    Diana   Excellent\n",
            "4   Edward     Average\n"
          ]
        }
      ]
    },
    {
      "cell_type": "markdown",
      "source": [
        "h) Identify missing values in the DataFrame.\n"
      ],
      "metadata": {
        "id": "fd2KNX-K_M9l"
      }
    },
    {
      "cell_type": "code",
      "source": [
        "print(df.isnull().sum())"
      ],
      "metadata": {
        "colab": {
          "base_uri": "https://localhost:8080/"
        },
        "id": "8QKMu60m_Tpg",
        "outputId": "c7771d6b-049f-4c2c-d5a1-3ad5226200c2"
      },
      "execution_count": 29,
      "outputs": [
        {
          "output_type": "stream",
          "name": "stdout",
          "text": [
            "Employee_ID            0\n",
            "Name                   0\n",
            "Department             0\n",
            "Age                    0\n",
            "Salary                 0\n",
            "Years_of_Experience    0\n",
            "Joining_Date           0\n",
            "Gender                 0\n",
            "Bonus                  0\n",
            "Rating                 0\n",
            "Performance            0\n",
            "dtype: int64\n"
          ]
        }
      ]
    },
    {
      "cell_type": "markdown",
      "source": [
        "i) Rename the Employee_ID column to ID.\n",
        "\n",
        "---\n",
        "\n"
      ],
      "metadata": {
        "id": "_XSpXz0i_i6-"
      }
    },
    {
      "cell_type": "code",
      "source": [
        "df = df.rename(columns={\"Employee_ID\": \"ID\"})\n",
        "print(df)"
      ],
      "metadata": {
        "colab": {
          "base_uri": "https://localhost:8080/"
        },
        "id": "EDoUv0ceARog",
        "outputId": "75d3994e-c0ba-41f2-b4ab-b26fe08949aa"
      },
      "execution_count": 33,
      "outputs": [
        {
          "output_type": "stream",
          "name": "stdout",
          "text": [
            "    ID     Name Department  Age  Salary  Years_of_Experience Joining_Date  \\\n",
            "0  101    Alice         HR   29   50000                    4   2020-03-15   \n",
            "1  102      Bob         IT   34   70000                    8   2017-07-19   \n",
            "2  103  Charlie         IT   41   65000                   10   2013-06-01   \n",
            "3  104    Diana  Marketing   28   55000                    3   2021-02-10   \n",
            "4  105   Edward      Sales   38   60000                   12   2010-11-25   \n",
            "\n",
            "   Gender  Bonus  Rating Performance  \n",
            "0  Female   5000     4.5        Good  \n",
            "1    Male   7000     4.0     Average  \n",
            "2    Male   6000     3.8     Average  \n",
            "3  Female   4500     4.7   Excellent  \n",
            "4    Male   5000     3.5     Average  \n"
          ]
        }
      ]
    },
    {
      "cell_type": "markdown",
      "source": [
        "j) Find all employees who:\n",
        "\n",
        "i. Have more than 5 years of experience.\n",
        "\n",
        "ii. Belong to the IT department."
      ],
      "metadata": {
        "id": "G-39irtAAd8j"
      }
    },
    {
      "cell_type": "code",
      "source": [
        "filtered_df = df[(df[\"Years_of_Experience\"] > 5) & (df[\"Department\"] == \"IT\")]\n",
        "print(filtered_df)"
      ],
      "metadata": {
        "colab": {
          "base_uri": "https://localhost:8080/"
        },
        "id": "gDyjdLN9AgRV",
        "outputId": "c4c09d7f-8455-4fe6-f66d-d68fd0702d66"
      },
      "execution_count": 34,
      "outputs": [
        {
          "output_type": "stream",
          "name": "stdout",
          "text": [
            "    ID     Name Department  Age  Salary  Years_of_Experience Joining_Date  \\\n",
            "1  102      Bob         IT   34   70000                    8   2017-07-19   \n",
            "2  103  Charlie         IT   41   65000                   10   2013-06-01   \n",
            "\n",
            "  Gender  Bonus  Rating Performance  \n",
            "1   Male   7000     4.0     Average  \n",
            "2   Male   6000     3.8     Average  \n"
          ]
        }
      ]
    },
    {
      "cell_type": "markdown",
      "source": [
        "k) Modify the dataset by adding a new column, Tax, which deducts 10% of the\n",
        "Salary.\n"
      ],
      "metadata": {
        "id": "cJxNh58UAq-q"
      }
    },
    {
      "cell_type": "code",
      "source": [
        "df[\"Tax\"] = df[\"Salary\"] * 0.1\n",
        "print(df)"
      ],
      "metadata": {
        "colab": {
          "base_uri": "https://localhost:8080/"
        },
        "id": "KE_swi2jAudF",
        "outputId": "15e97221-9e30-4805-f015-c194535a516d"
      },
      "execution_count": 35,
      "outputs": [
        {
          "output_type": "stream",
          "name": "stdout",
          "text": [
            "    ID     Name Department  Age  Salary  Years_of_Experience Joining_Date  \\\n",
            "0  101    Alice         HR   29   50000                    4   2020-03-15   \n",
            "1  102      Bob         IT   34   70000                    8   2017-07-19   \n",
            "2  103  Charlie         IT   41   65000                   10   2013-06-01   \n",
            "3  104    Diana  Marketing   28   55000                    3   2021-02-10   \n",
            "4  105   Edward      Sales   38   60000                   12   2010-11-25   \n",
            "\n",
            "   Gender  Bonus  Rating Performance     Tax  \n",
            "0  Female   5000     4.5        Good  5000.0  \n",
            "1    Male   7000     4.0     Average  7000.0  \n",
            "2    Male   6000     3.8     Average  6500.0  \n",
            "3  Female   4500     4.7   Excellent  5500.0  \n",
            "4    Male   5000     3.5     Average  6000.0  \n"
          ]
        }
      ]
    },
    {
      "cell_type": "markdown",
      "source": [
        "l) Save the modified DataFrame (with added columns) to a new CSV file."
      ],
      "metadata": {
        "id": "2IssSzEtA4uN"
      }
    },
    {
      "cell_type": "code",
      "source": [
        "df.to_csv(\"modified_employees.csv\", index=False)\n",
        "print(\"DataFrame saved to 'modified_employees.csv'\")"
      ],
      "metadata": {
        "colab": {
          "base_uri": "https://localhost:8080/"
        },
        "id": "oKbkcG9KA5VQ",
        "outputId": "c587ec3e-6dea-4f81-9255-9cadbf0593e4"
      },
      "execution_count": 36,
      "outputs": [
        {
          "output_type": "stream",
          "name": "stdout",
          "text": [
            "DataFrame saved to 'modified_employees.csv'\n"
          ]
        }
      ]
    }
  ]
}